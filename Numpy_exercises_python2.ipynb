{
 "cells": [
  {
   "cell_type": "code",
   "execution_count": 2,
   "metadata": {
    "collapsed": false
   },
   "outputs": [
    {
     "data": {
      "text/plain": [
       "'1.10.1'"
      ]
     },
     "execution_count": 2,
     "metadata": {},
     "output_type": "execute_result"
    }
   ],
   "source": [
    "#Print the julia version\n",
    "import numpy as np\n",
    "np.version.version"
   ]
  },
  {
   "cell_type": "code",
   "execution_count": 64,
   "metadata": {
    "collapsed": false
   },
   "outputs": [],
   "source": [
    "from __future__ import division"
   ]
  },
  {
   "cell_type": "code",
   "execution_count": 3,
   "metadata": {
    "collapsed": false
   },
   "outputs": [
    {
     "data": {
      "text/plain": [
       "array([ 0.,  0.,  0.,  0.,  0.,  0.,  0.,  0.,  0.,  0.])"
      ]
     },
     "execution_count": 3,
     "metadata": {},
     "output_type": "execute_result"
    }
   ],
   "source": [
    "# 3. Create a null vector of size 10\n",
    "np.zeros(10)"
   ]
  },
  {
   "cell_type": "code",
   "execution_count": 8,
   "metadata": {
    "collapsed": false
   },
   "outputs": [
    {
     "data": {
      "text/plain": [
       "array([ 0.,  0.,  0.,  0.,  0.,  1.,  0.,  0.,  0.,  0.])"
      ]
     },
     "execution_count": 8,
     "metadata": {},
     "output_type": "execute_result"
    }
   ],
   "source": [
    "# 4. Create a null vector of size 10 but the fifth value which is 1\n",
    "z = np.zeros(10)\n",
    "z[5]=1\n",
    "z"
   ]
  },
  {
   "cell_type": "code",
   "execution_count": 15,
   "metadata": {
    "collapsed": false
   },
   "outputs": [
    {
     "data": {
      "text/plain": [
       "array([10, 11, 12, 13, 14, 15, 16, 17, 18, 19, 20, 21, 22, 23, 24, 25, 26,\n",
       "       27, 28, 29, 30, 31, 32, 33, 34, 35, 36, 37, 38, 39, 40, 41, 42, 43,\n",
       "       44, 45, 46, 47, 48, 49, 50, 51, 52, 53, 54, 55, 56, 57, 58, 59, 60,\n",
       "       61, 62, 63, 64, 65, 66, 67, 68, 69, 70, 71, 72, 73, 74, 75, 76, 77,\n",
       "       78, 79, 80, 81, 82, 83, 84, 85, 86, 87, 88, 89, 90, 91, 92, 93, 94,\n",
       "       95, 96, 97, 98, 99])"
      ]
     },
     "execution_count": 15,
     "metadata": {},
     "output_type": "execute_result"
    }
   ],
   "source": [
    "# 5. Create a vector with values ranging from 10 to 99\n",
    "z = np.arange(10,100)\n",
    "z"
   ]
  },
  {
   "cell_type": "code",
   "execution_count": 19,
   "metadata": {
    "collapsed": false
   },
   "outputs": [
    {
     "data": {
      "text/plain": [
       "array([[0, 1, 2],\n",
       "       [3, 4, 5],\n",
       "       [6, 7, 8]])"
      ]
     },
     "execution_count": 19,
     "metadata": {},
     "output_type": "execute_result"
    }
   ],
   "source": [
    "# 6. Create a 3x3 matrix with values ranging from 0 to 8\n",
    "Z = np.arange(0,9).reshape((3,3))\n",
    "Z"
   ]
  },
  {
   "cell_type": "code",
   "execution_count": 31,
   "metadata": {
    "collapsed": false
   },
   "outputs": [
    {
     "data": {
      "text/plain": [
       "(array([0, 1, 4]),)"
      ]
     },
     "execution_count": 31,
     "metadata": {},
     "output_type": "execute_result"
    }
   ],
   "source": [
    "# 7. Find indices of non-zero elements from [1,2,0,0,4,0]\n",
    "np.nonzero([1,2,0,0,4,0])\n"
   ]
  },
  {
   "cell_type": "code",
   "execution_count": 34,
   "metadata": {
    "collapsed": false
   },
   "outputs": [
    {
     "data": {
      "text/plain": [
       "array([[ 1.,  0.,  0.],\n",
       "       [ 0.,  1.,  0.],\n",
       "       [ 0.,  0.,  1.]])"
      ]
     },
     "execution_count": 34,
     "metadata": {},
     "output_type": "execute_result"
    }
   ],
   "source": [
    "# 8. Create a 3x3 identity matrix\n",
    "Z = np.eye(3)\n",
    "Z"
   ]
  },
  {
   "cell_type": "code",
   "execution_count": 41,
   "metadata": {
    "collapsed": false
   },
   "outputs": [
    {
     "data": {
      "text/plain": [
       "array([[ 1.,  0.,  0.,  0.,  0.],\n",
       "       [ 0.,  2.,  0.,  0.,  0.],\n",
       "       [ 0.,  0.,  3.,  0.,  0.],\n",
       "       [ 0.,  0.,  0.,  4.,  0.],\n",
       "       [ 0.,  0.,  0.,  0.,  5.]])"
      ]
     },
     "execution_count": 41,
     "metadata": {},
     "output_type": "execute_result"
    }
   ],
   "source": [
    "# 9. Create a 5x5 matrix with values 1,2,3,4 just below the diagonal\n",
    "a = np.zeros((5,5))\n",
    "np.fill_diagonal(a,np.arange(1,6))\n",
    "a"
   ]
  },
  {
   "cell_type": "code",
   "execution_count": null,
   "metadata": {
    "collapsed": true
   },
   "outputs": [],
   "source": [
    "# 10. Create a 10x10x10 array with random values\n",
    "np.random.rand(10,10,10)"
   ]
  },
  {
   "cell_type": "code",
   "execution_count": 72,
   "metadata": {
    "collapsed": false
   },
   "outputs": [
    {
     "data": {
      "text/plain": [
       "array([[ 0.,  1.,  0.,  1.,  0.,  1.,  0.,  1.],\n",
       "       [ 1.,  0.,  1.,  0.,  1.,  0.,  1.,  0.],\n",
       "       [ 0.,  1.,  0.,  1.,  0.,  1.,  0.,  1.],\n",
       "       [ 1.,  0.,  1.,  0.,  1.,  0.,  1.,  0.],\n",
       "       [ 0.,  1.,  0.,  1.,  0.,  1.,  0.,  1.],\n",
       "       [ 1.,  0.,  1.,  0.,  1.,  0.,  1.,  0.],\n",
       "       [ 0.,  1.,  0.,  1.,  0.,  1.,  0.,  1.],\n",
       "       [ 1.,  0.,  1.,  0.,  1.,  0.,  1.,  0.]])"
      ]
     },
     "execution_count": 72,
     "metadata": {},
     "output_type": "execute_result"
    }
   ],
   "source": [
    "# Novice\n",
    "# 1. Create a 8x8 matrix and fill it with a checkerboard pattern\n",
    "Z = np.zeros((8,8))\n",
    "Z[1::2,::2] = 1\n",
    "Z[0::2,1::2] =1\n",
    "Z"
   ]
  },
  {
   "cell_type": "code",
   "execution_count": 78,
   "metadata": {
    "collapsed": false
   },
   "outputs": [
    {
     "data": {
      "text/plain": [
       "(0.00025891518720866369, 0.99850246764461847)"
      ]
     },
     "execution_count": 78,
     "metadata": {},
     "output_type": "execute_result"
    }
   ],
   "source": [
    "# 2. Create a 10x10 array with random values and find the minimum and maximum values\n",
    "x = np.random.rand(10,10)\n",
    "x.min(),x.max()"
   ]
  },
  {
   "cell_type": "code",
   "execution_count": 14,
   "metadata": {
    "collapsed": false
   },
   "outputs": [
    {
     "data": {
      "text/plain": [
       "array([[1, 0, 1, 0, 1, 0, 1, 0],\n",
       "       [0, 1, 0, 1, 0, 1, 0, 1],\n",
       "       [1, 0, 1, 0, 1, 0, 1, 0],\n",
       "       [0, 1, 0, 1, 0, 1, 0, 1],\n",
       "       [1, 0, 1, 0, 1, 0, 1, 0],\n",
       "       [0, 1, 0, 1, 0, 1, 0, 1],\n",
       "       [1, 0, 1, 0, 1, 0, 1, 0],\n",
       "       [0, 1, 0, 1, 0, 1, 0, 1]])"
      ]
     },
     "execution_count": 14,
     "metadata": {},
     "output_type": "execute_result"
    }
   ],
   "source": [
    "# 3. Create a checkerboard 8x8 matrix using the tile function\n",
    "# numpy's tile equal to repmat\n",
    "a = np.array([[1,0],[0,1]])\n",
    "np.tile(a,(4,4))"
   ]
  },
  {
   "cell_type": "code",
   "execution_count": 65,
   "metadata": {
    "collapsed": false
   },
   "outputs": [
    {
     "data": {
      "text/plain": [
       "array([[ 0.71395694, -0.74586985, -0.14804664,  1.4694161 , -0.67082039],\n",
       "       [-1.36841747, -0.74586985,  0.96230317, -0.76665188,  1.56524758],\n",
       "       [ 0.71395694, -0.4068381 , -1.62851306,  0.19166297,  0.4472136 ],\n",
       "       [-0.77345335,  1.62735241,  0.59218657, -1.08609016, -0.67082039],\n",
       "       [ 0.71395694,  0.2712254 ,  0.22206996,  0.19166297, -0.67082039]])"
      ]
     },
     "execution_count": 65,
     "metadata": {},
     "output_type": "execute_result"
    }
   ],
   "source": [
    "# 4. Normalize a 5x5 random matrix (between 0 and 1)\n",
    "a = np.random.randint(1,10,(5,5))\n",
    "m = a.mean(axis=0)\n",
    "s = a.std(ddof =1, axis = 0)\n",
    "\n",
    "(a-m)/s"
   ]
  },
  {
   "cell_type": "code",
   "execution_count": 77,
   "metadata": {
    "collapsed": false
   },
   "outputs": [
    {
     "name": "stdout",
     "output_type": "stream",
     "text": [
      "[[3 6 9]\n",
      " [8 8 2]\n",
      " [7 8 1]\n",
      " [1 9 6]\n",
      " [6 8 1]] \n",
      "[[10  2]\n",
      " [ 7 10]\n",
      " [ 8  2]] \n",
      "[[144  84]\n",
      " [152 100]\n",
      " [134  96]\n",
      " [121 104]\n",
      " [124  94]]\n"
     ]
    }
   ],
   "source": [
    "# 5. Multiply a 5x3 matrix by a 3x2 matrix (real matrix product)\n",
    "a = np.random.randint(1,10,(5,3))\n",
    "b = np.random.randint(2,12,(3,2))\n",
    "print a,\"\\n\", b, \"\\n\", a.dot(b)"
   ]
  },
  {
   "cell_type": "code",
   "execution_count": 92,
   "metadata": {
    "collapsed": false
   },
   "outputs": [
    {
     "data": {
      "text/plain": [
       "array([[ 0.,  1.,  2.,  3.,  4.,  5.,  6.,  7.,  8.,  9.],\n",
       "       [ 0.,  1.,  2.,  3.,  4.,  5.,  6.,  7.,  8.,  9.],\n",
       "       [ 0.,  1.,  2.,  3.,  4.,  5.,  6.,  7.,  8.,  9.],\n",
       "       [ 0.,  1.,  2.,  3.,  4.,  5.,  6.,  7.,  8.,  9.],\n",
       "       [ 0.,  1.,  2.,  3.,  4.,  5.,  6.,  7.,  8.,  9.],\n",
       "       [ 0.,  1.,  2.,  3.,  4.,  5.,  6.,  7.,  8.,  9.],\n",
       "       [ 0.,  1.,  2.,  3.,  4.,  5.,  6.,  7.,  8.,  9.],\n",
       "       [ 0.,  1.,  2.,  3.,  4.,  5.,  6.,  7.,  8.,  9.],\n",
       "       [ 0.,  1.,  2.,  3.,  4.,  5.,  6.,  7.,  8.,  9.],\n",
       "       [ 0.,  1.,  2.,  3.,  4.,  5.,  6.,  7.,  8.,  9.]])"
      ]
     },
     "execution_count": 92,
     "metadata": {},
     "output_type": "execute_result"
    }
   ],
   "source": [
    "# 6. Create a 10x10 matrix with row values ranging from 0 to 9\n",
    "a = np.zeros((10,10))\n",
    "a += np.arange(0,10)\n",
    "a"
   ]
  },
  {
   "cell_type": "code",
   "execution_count": 104,
   "metadata": {
    "collapsed": false
   },
   "outputs": [
    {
     "data": {
      "text/plain": [
       "array([ 0.01960784,  0.03921569,  0.05882353,  0.07843137,  0.09803922,\n",
       "        0.11764706,  0.1372549 ,  0.15686275,  0.17647059,  0.19607843,\n",
       "        0.21568627,  0.23529412,  0.25490196,  0.2745098 ,  0.29411765,\n",
       "        0.31372549,  0.33333333,  0.35294118,  0.37254902,  0.39215686,\n",
       "        0.41176471,  0.43137255,  0.45098039,  0.47058824,  0.49019608,\n",
       "        0.50980392,  0.52941176,  0.54901961,  0.56862745,  0.58823529,\n",
       "        0.60784314,  0.62745098,  0.64705882,  0.66666667,  0.68627451,\n",
       "        0.70588235,  0.7254902 ,  0.74509804,  0.76470588,  0.78431373,\n",
       "        0.80392157,  0.82352941,  0.84313725,  0.8627451 ,  0.88235294,\n",
       "        0.90196078,  0.92156863,  0.94117647,  0.96078431,  0.98039216])"
      ]
     },
     "execution_count": 104,
     "metadata": {},
     "output_type": "execute_result"
    }
   ],
   "source": [
    "# 7. Create a vector of size 50 with values ranging from 0 to 1, both excluded\n",
    "np.linspace(0,1,52)[1:-1]"
   ]
  },
  {
   "cell_type": "code",
   "execution_count": 100,
   "metadata": {
    "collapsed": false
   },
   "outputs": [],
   "source": [
    "# 8. Create a random vector of size 100 and sort it\n",
    "a = np.random.rand(100).sort()\n"
   ]
  },
  {
   "cell_type": "code",
   "execution_count": 107,
   "metadata": {
    "collapsed": false
   },
   "outputs": [
    {
     "data": {
      "text/plain": [
       "False"
      ]
     },
     "execution_count": 107,
     "metadata": {},
     "output_type": "execute_result"
    }
   ],
   "source": [
    "# 9. Consider two random matrices A anb B, check if they are equal.\n",
    "a = np.random.rand(2,2)\n",
    "b = np.random.rand(2,2)\n",
    "np.allclose(a,b)"
   ]
  },
  {
   "cell_type": "code",
   "execution_count": 108,
   "metadata": {
    "collapsed": false
   },
   "outputs": [
    {
     "data": {
      "text/plain": [
       "0.50524488437090154"
      ]
     },
     "execution_count": 108,
     "metadata": {},
     "output_type": "execute_result"
    }
   ],
   "source": [
    "# 10. Create a random  of size 1000 and find the mean value\n",
    "np.random.rand(1000).mean()"
   ]
  },
  {
   "cell_type": "code",
   "execution_count": 110,
   "metadata": {
    "collapsed": false
   },
   "outputs": [],
   "source": [
    "# Apprentice\n",
    "# 1. Make an array immutable (read-only)\n",
    "# nothing\n",
    "a = np.random.rand(2,2)\n",
    "a.flags.writeable = False\n"
   ]
  },
  {
   "cell_type": "code",
   "execution_count": 22,
   "metadata": {
    "collapsed": false
   },
   "outputs": [],
   "source": [
    "# 2. Consider a random 10x2 matrix representing cartesian coordinates, convert them to polar coordinates\n"
   ]
  },
  {
   "cell_type": "code",
   "execution_count": 9,
   "metadata": {
    "collapsed": false
   },
   "outputs": [
    {
     "data": {
      "text/plain": [
       "array([ 0.57666999,  0.72732024,  0.04072352,  0.73653747,  0.00777331,\n",
       "        0.13336295,  0.36989461,  0.21403269,  0.76934523,  0.1553323 ,\n",
       "        0.32959821,  0.48484355,  0.33188653,  0.45989222,  0.81604134,\n",
       "        0.62600981,  0.96497731,  0.72327673,  0.56022076,  0.30511623,\n",
       "        0.6662684 ,  0.68160544,  0.80453509,  0.66534696,  0.6143985 ,\n",
       "        0.52672743,  0.94855916,  0.74519203,  0.3872801 ,  0.16390008,\n",
       "        0.21283984,  0.5924899 ,  0.01994656,  0.37337735,  0.92816753,\n",
       "        0.91013409,  0.06005621,  0.54899584,  0.25278213,  0.18175294,\n",
       "        0.09545689,  0.96859687,  0.34939642,  0.59990907,  0.7008814 ,\n",
       "        0.51329294,  0.51549874,  0.1742139 ,  0.03265794,  0.71292073,\n",
       "        0.93690311,  0.69467052,  0.59684954,  0.82826241,  0.53775277,\n",
       "        0.77805371,  0.70463505,  0.31117869,  0.85245035,  0.14368881,\n",
       "        0.04313336,  0.62569511,  0.80686149,  0.14284927,  0.90924732,\n",
       "        0.55779438,  0.73916289,  0.        ,  0.04409316,  0.02593962,\n",
       "        0.37424822,  0.6056318 ,  0.01564783,  0.41776912,  0.72093712,\n",
       "        0.78279862,  0.17845238,  0.05020821,  0.61547262,  0.73110131,\n",
       "        0.01925352,  0.1570367 ,  0.10195394,  0.32631371,  0.09940654,\n",
       "        0.33575709,  0.8113186 ,  0.66322044,  0.87104057,  0.01761329,\n",
       "        0.35698629,  0.40182333,  0.93952793,  0.31519753,  0.00745694,\n",
       "        0.8912968 ,  0.06528201,  0.70497771,  0.02474104,  0.71784042])"
      ]
     },
     "execution_count": 9,
     "metadata": {},
     "output_type": "execute_result"
    }
   ],
   "source": [
    "# 3. Create random vector of size 100 and replace the maximum value by 0\n",
    "a = np.random.rand(100)\n",
    "a[a.argmax()] = 0\n",
    "a"
   ]
  },
  {
   "cell_type": "code",
   "execution_count": 13,
   "metadata": {
    "collapsed": false
   },
   "outputs": [],
   "source": [
    "# 4. Create a structured array with x and y coordinates covering the [0,1]x[0,1] area.\n",
    "# There is not exist `meshgrid` officially\n",
    "# see also. https://github.com/JuliaLang/julia/issues/4093\n",
    "# assume using https://github.com/JuliaLang/julia/blob/master/examples/ndgrid.jl\n",
    "\n"
   ]
  },
  {
   "cell_type": "code",
   "execution_count": 11,
   "metadata": {
    "collapsed": false
   },
   "outputs": [
    {
     "name": "stdout",
     "output_type": "stream",
     "text": [
      "<type 'numpy.int8'> min: -128\n",
      "<type 'numpy.int8'> max: 127\n",
      "<type 'numpy.int32'> min: -2147483648\n",
      "<type 'numpy.int32'> max: 2147483647\n",
      "<type 'numpy.int64'> min: -9223372036854775808\n",
      "<type 'numpy.int64'> max: 9223372036854775807\n",
      "<type 'numpy.float32'> min: -3.40282346639e+38\n",
      "<type 'numpy.float32'> max: 3.40282346639e+38\n",
      "<type 'numpy.float32'> eps: 1.19209289551e-07\n",
      "<type 'numpy.float64'> min: -1.79769313486e+308\n",
      "<type 'numpy.float64'> max: 1.79769313486e+308\n",
      "<type 'numpy.float64'> eps: 2.22044604925e-16\n"
     ]
    }
   ],
   "source": [
    "# 5. Print the minimum and maximum representable value for each Numpy scalar type\n",
    "for dtype in [np.int8, np.int32, np.int64]:\n",
    "   print \"{0} min: {1}\".format(dtype,np.iinfo(dtype).min)\n",
    "   print \"{0} max: {1}\".format(dtype,np.iinfo(dtype).max) \n",
    "for dtype in [np.float32, np.float64]:\n",
    "   print \"{0} min: {1}\".format(dtype,np.finfo(dtype).min)\n",
    "   print \"{0} max: {1}\".format(dtype,np.finfo(dtype).max)\n",
    "   print \"{0} eps: {1}\".format(dtype,np.finfo(dtype).eps)\n"
   ]
  },
  {
   "cell_type": "code",
   "execution_count": 12,
   "metadata": {
    "collapsed": false
   },
   "outputs": [
    {
     "data": {
      "text/plain": [
       "array([((0.0, 0.0), (0.0, 0.0, 0.0)), ((0.0, 0.0), (0.0, 0.0, 0.0)),\n",
       "       ((0.0, 0.0), (0.0, 0.0, 0.0)), ((0.0, 0.0), (0.0, 0.0, 0.0)),\n",
       "       ((0.0, 0.0), (0.0, 0.0, 0.0)), ((0.0, 0.0), (0.0, 0.0, 0.0)),\n",
       "       ((0.0, 0.0), (0.0, 0.0, 0.0)), ((0.0, 0.0), (0.0, 0.0, 0.0)),\n",
       "       ((0.0, 0.0), (0.0, 0.0, 0.0)), ((0.0, 0.0), (0.0, 0.0, 0.0))], \n",
       "      dtype=[('position', [('x', '<f8'), ('y', '<f8')]), ('color', [('r', '<f8'), ('g', '<f8'), ('b', '<f8')])])"
      ]
     },
     "execution_count": 12,
     "metadata": {},
     "output_type": "execute_result"
    }
   ],
   "source": [
    "# 6. Create a structured array representing a position (x,y) and a color (r,g,b)\n",
    "np.zeros(10, dtype = [ ('position', [ ('x', float, 1),\n",
    "                                   ('y', float, 1)]),\n",
    "                    ('color',    [ ('r', float, 1),\n",
    "                                   ('g', float, 1),\n",
    "                                   ('b', float, 1)])])\n"
   ]
  },
  {
   "cell_type": "code",
   "execution_count": 16,
   "metadata": {
    "collapsed": false
   },
   "outputs": [],
   "source": [
    "# 7. Consider a random vector with shape (100,2) representing coordinates, find point by point distances\n",
    "\n",
    "r_vector = np.random.rand(100,2)\n"
   ]
  },
  {
   "cell_type": "code",
   "execution_count": 28,
   "metadata": {
    "collapsed": false
   },
   "outputs": [],
   "source": [
    "# 8. Generate a generic 2D Gaussian-like array\n",
    "\n",
    "\n",
    "\n",
    "# Another solution\n",
    "# Author: Billou Beilour\n",
    "\n",
    "\n",
    "# One more solution\n",
    "# Author: Billou Beilour\n"
   ]
  },
  {
   "cell_type": "code",
   "execution_count": 29,
   "metadata": {
    "collapsed": false
   },
   "outputs": [],
   "source": [
    "# 9. Consider the vector [1, 2, 3, 4, 5], how to build a new vector with 3 consecutive zeros interleaved between each value ?\n"
   ]
  },
  {
   "cell_type": "code",
   "execution_count": 30,
   "metadata": {
    "collapsed": false
   },
   "outputs": [],
   "source": [
    "# 10. Find the nearest value from a given value in an array\n"
   ]
  },
  {
   "cell_type": "code",
   "execution_count": 31,
   "metadata": {
    "collapsed": false
   },
   "outputs": [],
   "source": [
    "# Journyman\n",
    "# 1. Consider the following file:\n",
    "# 1,2,3,4,5\n",
    "# 6,,,7,8\n",
    "# ,,9,10,11\n",
    "# How to read it ?\n"
   ]
  },
  {
   "cell_type": "code",
   "execution_count": 31,
   "metadata": {
    "collapsed": false
   },
   "outputs": [],
   "source": [
    "# 2. Consider a generator function that generates 10 integers and use it to build an array\n",
    "# I can't translate this question"
   ]
  },
  {
   "cell_type": "code",
   "execution_count": 32,
   "metadata": {
    "collapsed": false
   },
   "outputs": [],
   "source": [
    "# 3. Consider a given vector, how to add 1 to each element indexed by a second vector (be careful with repeated indices) ?\n"
   ]
  },
  {
   "cell_type": "code",
   "execution_count": 33,
   "metadata": {
    "collapsed": false
   },
   "outputs": [],
   "source": [
    "# 4. How to accumulate elements of a vector (X) to an array (F) based on an index list (I) ?\n"
   ]
  },
  {
   "cell_type": "code",
   "execution_count": 34,
   "metadata": {
    "collapsed": false
   },
   "outputs": [],
   "source": [
    "# 5. Considering a (w,h,3) image of (dtype=ubyte), compute the number of unique colors\n"
   ]
  },
  {
   "cell_type": "code",
   "execution_count": 35,
   "metadata": {
    "collapsed": false
   },
   "outputs": [],
   "source": [
    "# 6. Considering a four dimensions array, how to get sum over the last two axis at once ?\n"
   ]
  },
  {
   "cell_type": "code",
   "execution_count": 36,
   "metadata": {
    "collapsed": false
   },
   "outputs": [],
   "source": [
    "# 7. Considering a one-dimensional vector D, how to compute means of subsets of D using a vector S of same size describing subset indices ?\n"
   ]
  },
  {
   "cell_type": "code",
   "execution_count": 37,
   "metadata": {
    "collapsed": false
   },
   "outputs": [],
   "source": [
    "# Craftsman\n",
    "# 1. Consider a one-dimensional array Z, build a two-dimensional array whose first row is (Z[0],Z[1],Z[2]) and each subsequent row is shifted by 1 (last row should be (Z[-3],Z[-2],Z[-1])\n",
    "# I don't find any function like stride_tricks.as_stride\n"
   ]
  },
  {
   "cell_type": "code",
   "execution_count": 38,
   "metadata": {
    "collapsed": false
   },
   "outputs": [],
   "source": [
    "# 2. Consider a set of 100 triplets describing 100 triangles (with shared vertices), find the set of unique line segments composing all the triangles.\n",
    "\n"
   ]
  },
  {
   "cell_type": "code",
   "execution_count": 39,
   "metadata": {
    "collapsed": false
   },
   "outputs": [],
   "source": [
    "# 3. Given an array C that is a bincount, how to produce an array A such that np.bincount(A) == C ?\n"
   ]
  },
  {
   "cell_type": "code",
   "execution_count": 7,
   "metadata": {
    "collapsed": false
   },
   "outputs": [],
   "source": [
    "# 4. How to compute averages using a sliding window over an array ?\n"
   ]
  },
  {
   "cell_type": "code",
   "execution_count": 6,
   "metadata": {
    "collapsed": false
   },
   "outputs": [],
   "source": [
    "# Artisan\n",
    "# 1. Considering a 100x3 matrix, extract rows with unequal values (e.g. [2,2,3])\n"
   ]
  },
  {
   "cell_type": "code",
   "execution_count": 5,
   "metadata": {
    "collapsed": false
   },
   "outputs": [],
   "source": [
    "# 2. Convert a vector of ints into a matrix binary representation.\n"
   ]
  },
  {
   "cell_type": "code",
   "execution_count": 43,
   "metadata": {
    "collapsed": false
   },
   "outputs": [],
   "source": [
    "# Adept\n",
    "# 1. Consider an arbitrary array, write a function that extract a subpart with a fixed shape and centered on a given element (pad with a fill value when necessary)\n",
    "# TBS"
   ]
  },
  {
   "cell_type": "code",
   "execution_count": 44,
   "metadata": {
    "collapsed": false
   },
   "outputs": [],
   "source": [
    "# Expert\n",
    "# 1. Consider two arrays A and B of shape (8,3) and (2,2). How to find rows of A that contain elements of each row of B regardless of the order of the elements in B ?\n",
    "# I can't execute numpy version..."
   ]
  },
  {
   "cell_type": "code",
   "execution_count": 45,
   "metadata": {
    "collapsed": false
   },
   "outputs": [],
   "source": [
    "# 2. Extract all the contiguous 3x3 blocks from a random 10x10 matrix.\n",
    "# TBS"
   ]
  },
  {
   "cell_type": "code",
   "execution_count": 46,
   "metadata": {
    "collapsed": false
   },
   "outputs": [],
   "source": [
    "# 3. Extract all the contiguous 3x3 blocks from a random 10x10 matrix.\n",
    "# There is Symmetric class in julia but immutable\n",
    "# https://github.com/JuliaLang/julia/blob/master/base/linalg/symmetric.jl\n",
    "# See also: https://github.com/JuliaLang/julia/pull/1533"
   ]
  },
  {
   "cell_type": "code",
   "execution_count": 4,
   "metadata": {
    "collapsed": false
   },
   "outputs": [],
   "source": [
    "# 4. Consider a set of p matrices wich shape (n,n) and a set of p vectors with shape (n,1). How to compute the sum of of the p matrix products at once ? (result has shape (n,1))\n"
   ]
  },
  {
   "cell_type": "code",
   "execution_count": 3,
   "metadata": {
    "collapsed": false
   },
   "outputs": [],
   "source": [
    "# Master\n",
    "# 1. Given a two dimensional array, how to extract unique rows ?\n"
   ]
  }
 ],
 "metadata": {
  "kernelspec": {
   "display_name": "Python 2",
   "language": "python",
   "name": "python2"
  },
  "language_info": {
   "codemirror_mode": {
    "name": "ipython",
    "version": 2
   },
   "file_extension": ".py",
   "mimetype": "text/x-python",
   "name": "python",
   "nbconvert_exporter": "python",
   "pygments_lexer": "ipython2",
   "version": "2.7.10"
  }
 },
 "nbformat": 4,
 "nbformat_minor": 0
}
