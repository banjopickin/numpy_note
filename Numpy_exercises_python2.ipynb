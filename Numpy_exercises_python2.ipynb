{
 "cells": [
  {
   "cell_type": "code",
   "execution_count": 2,
   "metadata": {
    "collapsed": false
   },
   "outputs": [
    {
     "data": {
      "text/plain": [
       "'1.10.1'"
      ]
     },
     "execution_count": 2,
     "metadata": {},
     "output_type": "execute_result"
    }
   ],
   "source": [
    "#Print the julia version\n",
    "import numpy as np\n",
    "np.version.version"
   ]
  },
  {
   "cell_type": "code",
   "execution_count": 3,
   "metadata": {
    "collapsed": false
   },
   "outputs": [
    {
     "data": {
      "text/plain": [
       "array([ 0.,  0.,  0.,  0.,  0.,  0.,  0.,  0.,  0.,  0.])"
      ]
     },
     "execution_count": 3,
     "metadata": {},
     "output_type": "execute_result"
    }
   ],
   "source": [
    "# 3. Create a null vector of size 10\n",
    "np.zeros(10)"
   ]
  },
  {
   "cell_type": "code",
   "execution_count": 8,
   "metadata": {
    "collapsed": false
   },
   "outputs": [
    {
     "data": {
      "text/plain": [
       "array([ 0.,  0.,  0.,  0.,  0.,  1.,  0.,  0.,  0.,  0.])"
      ]
     },
     "execution_count": 8,
     "metadata": {},
     "output_type": "execute_result"
    }
   ],
   "source": [
    "# 4. Create a null vector of size 10 but the fifth value which is 1\n",
    "z = np.zeros(10)\n",
    "z[5]=1\n",
    "z"
   ]
  },
  {
   "cell_type": "code",
   "execution_count": 15,
   "metadata": {
    "collapsed": false
   },
   "outputs": [
    {
     "data": {
      "text/plain": [
       "array([10, 11, 12, 13, 14, 15, 16, 17, 18, 19, 20, 21, 22, 23, 24, 25, 26,\n",
       "       27, 28, 29, 30, 31, 32, 33, 34, 35, 36, 37, 38, 39, 40, 41, 42, 43,\n",
       "       44, 45, 46, 47, 48, 49, 50, 51, 52, 53, 54, 55, 56, 57, 58, 59, 60,\n",
       "       61, 62, 63, 64, 65, 66, 67, 68, 69, 70, 71, 72, 73, 74, 75, 76, 77,\n",
       "       78, 79, 80, 81, 82, 83, 84, 85, 86, 87, 88, 89, 90, 91, 92, 93, 94,\n",
       "       95, 96, 97, 98, 99])"
      ]
     },
     "execution_count": 15,
     "metadata": {},
     "output_type": "execute_result"
    }
   ],
   "source": [
    "# 5. Create a vector with values ranging from 10 to 99\n",
    "z = np.arange(10,100)\n",
    "z"
   ]
  },
  {
   "cell_type": "code",
   "execution_count": 19,
   "metadata": {
    "collapsed": false
   },
   "outputs": [
    {
     "data": {
      "text/plain": [
       "array([[0, 1, 2],\n",
       "       [3, 4, 5],\n",
       "       [6, 7, 8]])"
      ]
     },
     "execution_count": 19,
     "metadata": {},
     "output_type": "execute_result"
    }
   ],
   "source": [
    "# 6. Create a 3x3 matrix with values ranging from 0 to 8\n",
    "Z = np.arange(0,9).reshape((3,3))\n",
    "Z"
   ]
  },
  {
   "cell_type": "code",
   "execution_count": 31,
   "metadata": {
    "collapsed": false
   },
   "outputs": [
    {
     "data": {
      "text/plain": [
       "(array([0, 1, 4]),)"
      ]
     },
     "execution_count": 31,
     "metadata": {},
     "output_type": "execute_result"
    }
   ],
   "source": [
    "# 7. Find indices of non-zero elements from [1,2,0,0,4,0]\n",
    "np.nonzero([1,2,0,0,4,0])\n"
   ]
  },
  {
   "cell_type": "code",
   "execution_count": 34,
   "metadata": {
    "collapsed": false
   },
   "outputs": [
    {
     "data": {
      "text/plain": [
       "array([[ 1.,  0.,  0.],\n",
       "       [ 0.,  1.,  0.],\n",
       "       [ 0.,  0.,  1.]])"
      ]
     },
     "execution_count": 34,
     "metadata": {},
     "output_type": "execute_result"
    }
   ],
   "source": [
    "# 8. Create a 3x3 identity matrix\n",
    "Z = np.eye(3)\n",
    "Z"
   ]
  },
  {
   "cell_type": "code",
   "execution_count": 41,
   "metadata": {
    "collapsed": false
   },
   "outputs": [
    {
     "data": {
      "text/plain": [
       "array([[ 1.,  0.,  0.,  0.,  0.],\n",
       "       [ 0.,  2.,  0.,  0.,  0.],\n",
       "       [ 0.,  0.,  3.,  0.,  0.],\n",
       "       [ 0.,  0.,  0.,  4.,  0.],\n",
       "       [ 0.,  0.,  0.,  0.,  5.]])"
      ]
     },
     "execution_count": 41,
     "metadata": {},
     "output_type": "execute_result"
    }
   ],
   "source": [
    "# 9. Create a 5x5 matrix with values 1,2,3,4 just below the diagonal\n",
    "a = np.zeros((5,5))\n",
    "np.fill_diagonal(a,np.arange(1,6))\n",
    "a"
   ]
  },
  {
   "cell_type": "code",
   "execution_count": null,
   "metadata": {
    "collapsed": true
   },
   "outputs": [],
   "source": [
    "# 10. Create a 10x10x10 array with random values\n",
    "np.random.rand(10,10,10)"
   ]
  },
  {
   "cell_type": "code",
   "execution_count": 72,
   "metadata": {
    "collapsed": false
   },
   "outputs": [
    {
     "data": {
      "text/plain": [
       "array([[ 0.,  1.,  0.,  1.,  0.,  1.,  0.,  1.],\n",
       "       [ 1.,  0.,  1.,  0.,  1.,  0.,  1.,  0.],\n",
       "       [ 0.,  1.,  0.,  1.,  0.,  1.,  0.,  1.],\n",
       "       [ 1.,  0.,  1.,  0.,  1.,  0.,  1.,  0.],\n",
       "       [ 0.,  1.,  0.,  1.,  0.,  1.,  0.,  1.],\n",
       "       [ 1.,  0.,  1.,  0.,  1.,  0.,  1.,  0.],\n",
       "       [ 0.,  1.,  0.,  1.,  0.,  1.,  0.,  1.],\n",
       "       [ 1.,  0.,  1.,  0.,  1.,  0.,  1.,  0.]])"
      ]
     },
     "execution_count": 72,
     "metadata": {},
     "output_type": "execute_result"
    }
   ],
   "source": [
    "# Novice\n",
    "# 1. Create a 8x8 matrix and fill it with a checkerboard pattern\n",
    "Z = np.zeros((8,8))\n",
    "Z[1::2,::2] = 1\n",
    "Z[0::2,1::2] =1\n",
    "Z"
   ]
  },
  {
   "cell_type": "code",
   "execution_count": 78,
   "metadata": {
    "collapsed": false
   },
   "outputs": [
    {
     "data": {
      "text/plain": [
       "(0.00025891518720866369, 0.99850246764461847)"
      ]
     },
     "execution_count": 78,
     "metadata": {},
     "output_type": "execute_result"
    }
   ],
   "source": [
    "# 2. Create a 10x10 array with random values and find the minimum and maximum values\n",
    "x = np.random.rand(10,10)\n",
    "x.min(),x.max()"
   ]
  },
  {
   "cell_type": "code",
   "execution_count": 1,
   "metadata": {
    "collapsed": false
   },
   "outputs": [],
   "source": [
    "# 3. Create a checkerboard 8x8 matrix using the tile function\n",
    "# numpy's tile equal to repmat\n"
   ]
  },
  {
   "cell_type": "code",
   "execution_count": 2,
   "metadata": {
    "collapsed": false
   },
   "outputs": [],
   "source": [
    "# 4. Normalize a 5x5 random matrix (between 0 and 1)\n"
   ]
  },
  {
   "cell_type": "code",
   "execution_count": 14,
   "metadata": {
    "collapsed": false
   },
   "outputs": [
    {
     "data": {
      "text/plain": [
       "5x2 Array{Float64,2}:\n",
       " 3.0  3.0\n",
       " 3.0  3.0\n",
       " 3.0  3.0\n",
       " 3.0  3.0\n",
       " 3.0  3.0"
      ]
     },
     "execution_count": 14,
     "metadata": {},
     "output_type": "execute_result"
    }
   ],
   "source": [
    "# 5. Multiply a 5x3 matrix by a 3x2 matrix (real matrix product)\n",
    "Z = ones(5,3) * ones(3,2)"
   ]
  },
  {
   "cell_type": "code",
   "execution_count": 15,
   "metadata": {
    "collapsed": false
   },
   "outputs": [
    {
     "data": {
      "text/plain": [
       "10x10 Array{Int64,2}:\n",
       " 0  1  2  3  4  5  6  7  8  9\n",
       " 0  1  2  3  4  5  6  7  8  9\n",
       " 0  1  2  3  4  5  6  7  8  9\n",
       " 0  1  2  3  4  5  6  7  8  9\n",
       " 0  1  2  3  4  5  6  7  8  9\n",
       " 0  1  2  3  4  5  6  7  8  9\n",
       " 0  1  2  3  4  5  6  7  8  9\n",
       " 0  1  2  3  4  5  6  7  8  9\n",
       " 0  1  2  3  4  5  6  7  8  9\n",
       " 0  1  2  3  4  5  6  7  8  9"
      ]
     },
     "execution_count": 15,
     "metadata": {},
     "output_type": "execute_result"
    }
   ],
   "source": [
    "# 6. Create a 10x10 matrix with row values ranging from 0 to 9\n",
    "(zeros(Int64,10,10) .+ [0:9])'\n",
    "\n",
    "# Alternate solution\n",
    "# Author: Leah Hanson\n",
    "[y for x in 1:10, y in 0:9]"
   ]
  },
  {
   "cell_type": "code",
   "execution_count": 16,
   "metadata": {
    "collapsed": false
   },
   "outputs": [
    {
     "data": {
      "text/plain": [
       "1000-element Array{Float64,1}:\n",
       " 0.000999001\n",
       " 0.001998   \n",
       " 0.002997   \n",
       " 0.003996   \n",
       " 0.004995   \n",
       " 0.00599401 \n",
       " 0.00699301 \n",
       " 0.00799201 \n",
       " 0.00899101 \n",
       " 0.00999001 \n",
       " 0.010989   \n",
       " 0.011988   \n",
       " 0.012987   \n",
       " ⋮          \n",
       " 0.988012   \n",
       " 0.989011   \n",
       " 0.99001    \n",
       " 0.991009   \n",
       " 0.992008   \n",
       " 0.993007   \n",
       " 0.994006   \n",
       " 0.995005   \n",
       " 0.996004   \n",
       " 0.997003   \n",
       " 0.998002   \n",
       " 0.999001   "
      ]
     },
     "execution_count": 16,
     "metadata": {},
     "output_type": "execute_result"
    }
   ],
   "source": [
    "# 7. Create a vector of size 1000 with values ranging from 0 to 1, both excluded\n",
    "linspace(0,1, 1002)[2:end - 1]"
   ]
  },
  {
   "cell_type": "code",
   "execution_count": 17,
   "metadata": {
    "collapsed": false
   },
   "outputs": [
    {
     "data": {
      "text/plain": [
       "100-element Array{Float64,1}:\n",
       " 0.0103796\n",
       " 0.0259711\n",
       " 0.0475339\n",
       " 0.0551598\n",
       " 0.0587751\n",
       " 0.0601322\n",
       " 0.0928093\n",
       " 0.0943298\n",
       " 0.0962813\n",
       " 0.119288 \n",
       " 0.11995  \n",
       " 0.12609  \n",
       " 0.134203 \n",
       " ⋮        \n",
       " 0.918914 \n",
       " 0.921578 \n",
       " 0.930456 \n",
       " 0.936039 \n",
       " 0.936989 \n",
       " 0.944145 \n",
       " 0.949722 \n",
       " 0.952165 \n",
       " 0.965933 \n",
       " 0.965948 \n",
       " 0.967604 \n",
       " 0.99916  "
      ]
     },
     "execution_count": 17,
     "metadata": {},
     "output_type": "execute_result"
    }
   ],
   "source": [
    "# 8. Create a random vector of size 100 and sort it\n",
    "Z = rand(100)\n",
    "sort(Z) # returns a sorted copy of Z; leaves Z unchanged\n",
    "\n",
    "# Alternate solution\n",
    "# Author: Leah Hanson\n",
    "Z = rand(100)\n",
    "sort!(Z) # sorts Z in-place; returns Z"
   ]
  },
  {
   "cell_type": "code",
   "execution_count": 18,
   "metadata": {
    "collapsed": false
   },
   "outputs": [
    {
     "data": {
      "text/plain": [
       "false"
      ]
     },
     "execution_count": 18,
     "metadata": {},
     "output_type": "execute_result"
    }
   ],
   "source": [
    "# 9. Consider two random matrices A anb B, check if they are equal.\n",
    "A = rand(0:2, 2,2)\n",
    "B = rand(0:2, 2,2)\n",
    "A == B"
   ]
  },
  {
   "cell_type": "code",
   "execution_count": 19,
   "metadata": {
    "collapsed": false
   },
   "outputs": [
    {
     "data": {
      "text/plain": [
       "0.5042281294496798"
      ]
     },
     "execution_count": 19,
     "metadata": {},
     "output_type": "execute_result"
    }
   ],
   "source": [
    "# 10. Create a random vector of size 1000 and find the mean value\n",
    "Z = rand(1000)\n",
    "m = mean(Z)"
   ]
  },
  {
   "cell_type": "code",
   "execution_count": 20,
   "metadata": {
    "collapsed": false
   },
   "outputs": [],
   "source": [
    "# Apprentice\n",
    "# 1. Make an array immutable (read-only)\n",
    "# nothing"
   ]
  },
  {
   "cell_type": "code",
   "execution_count": 21,
   "metadata": {
    "collapsed": false
   },
   "outputs": [
    {
     "data": {
      "text/plain": [
       "10-element Array{Float64,1}:\n",
       " 1.21097 \n",
       " 0.243687\n",
       " 0.822103\n",
       " 0.705049\n",
       " 1.43544 \n",
       " 0.329852\n",
       " 1.01906 \n",
       " 1.07077 \n",
       " 1.3239  \n",
       " 0.315829"
      ]
     },
     "execution_count": 21,
     "metadata": {},
     "output_type": "execute_result"
    }
   ],
   "source": [
    "# 2. Consider a random 10x2 matrix representing cartesian coordinates, convert them to polar coordinates\n",
    "Z = rand(10,2)\n",
    "X, Y = Z[:,1], Z[:,2]\n",
    "R = sqrt(X.^2 + Y.^2)\n",
    "T = atan2(Y,X)"
   ]
  },
  {
   "cell_type": "code",
   "execution_count": 22,
   "metadata": {
    "collapsed": false
   },
   "outputs": [
    {
     "data": {
      "text/plain": [
       "0"
      ]
     },
     "execution_count": 22,
     "metadata": {},
     "output_type": "execute_result"
    }
   ],
   "source": [
    "# 3. Create random vector of size 100 and replace the maximum value by 0\n",
    "Z = rand(100)\n",
    "Z[indmax(Z)] = 0"
   ]
  },
  {
   "cell_type": "code",
   "execution_count": 23,
   "metadata": {
    "collapsed": false
   },
   "outputs": [
    {
     "data": {
      "text/plain": [
       "10x10 Array{(Float64,Float64),2}:\n",
       " (0.0,0.0)                 …  (0.0,1.0)               \n",
       " (0.1111111111111111,0.0)     (0.1111111111111111,1.0)\n",
       " (0.2222222222222222,0.0)     (0.2222222222222222,1.0)\n",
       " (0.3333333333333333,0.0)     (0.3333333333333333,1.0)\n",
       " (0.4444444444444444,0.0)     (0.4444444444444444,1.0)\n",
       " (0.5555555555555556,0.0)  …  (0.5555555555555556,1.0)\n",
       " (0.6666666666666666,0.0)     (0.6666666666666666,1.0)\n",
       " (0.7777777777777778,0.0)     (0.7777777777777778,1.0)\n",
       " (0.8888888888888888,0.0)     (0.8888888888888888,1.0)\n",
       " (1.0,0.0)                    (1.0,1.0)               "
      ]
     },
     "execution_count": 23,
     "metadata": {},
     "output_type": "execute_result"
    }
   ],
   "source": [
    "# 4. Create a structured array with x and y coordinates covering the [0,1]x[0,1] area.\n",
    "# There is not exist `meshgrid` officially\n",
    "# see also. https://github.com/JuliaLang/julia/issues/4093\n",
    "# assume using https://github.com/JuliaLang/julia/blob/master/examples/ndgrid.jl\n",
    "include(\"/Applications/Julia-0.3.0-prerelease-547facf2c1.app/Contents/Resources/julia/share/julia/examples/ndgrid.jl\")\n",
    "X = linspace(0,1,10)\n",
    "Zx, Zy = meshgrid(X, X)\n",
    "\n",
    "# Another solution\n",
    "# Author: Alireza Nejati\n",
    "[(x,y) for x in linspace(0,1,10), y in linspace(0,1,10)]"
   ]
  },
  {
   "cell_type": "code",
   "execution_count": 24,
   "metadata": {
    "collapsed": false
   },
   "outputs": [
    {
     "name": "stdout",
     "output_type": "stream",
     "text": [
      "-128\n",
      "127\n",
      "-32768\n",
      "32767\n",
      "-2147483648\n",
      "2147483647\n",
      "-9223372036854775808\n",
      "9223372036854775807\n",
      "{(-170141183460469231731687303715884105728,170141183460469231731687303715884105727),(-32768,32767),(-2147483648,2147483647),(-9223372036854775808,9223372036854775807),(-128,127)}-Inf\n",
      "Inf\n",
      "1.1920929e-7\n",
      "-Inf\n",
      "Inf\n",
      "2.220446049250313e-16\n"
     ]
    }
   ],
   "source": [
    "# 5. Print the minimum and maximum representable value for each Julia scalar type\n",
    "for dtype in (Int8, Int16, Int32, Int64)\n",
    "    println(typemin(dtype))\n",
    "    println(typemax(dtype))\n",
    "end\n",
    "\n",
    "# Another solution\n",
    "# Author: harven\n",
    "print(map!(t -> (typemin(t),typemax(t)), subtypes(Signed)))\n",
    "\n",
    "# typemin, typemax returns -Inf, Inf\n",
    "for dtype in (Float32, Float64)\n",
    "    println(typemin(dtype))\n",
    "    println(typemax(dtype))\n",
    "    println(eps(dtype))\n",
    "end"
   ]
  },
  {
   "cell_type": "code",
   "execution_count": 25,
   "metadata": {
    "collapsed": false
   },
   "outputs": [],
   "source": [
    "# 6. Create a structured array representing a position (x,y) and a color (r,g,b)\n",
    "# Julia doesn't have StructArray\n",
    "# see also: https://github.com/JuliaLang/julia/issues/1263\n",
    "# use DataFrames"
   ]
  },
  {
   "cell_type": "code",
   "execution_count": 26,
   "metadata": {
    "collapsed": false
   },
   "outputs": [
    {
     "data": {
      "text/plain": [
       "10x10 Array{Float64,2}:\n",
       " 0.0       0.776522   0.755307   0.129905  …  0.558582  0.857336  0.80191  \n",
       " 0.776522  0.0        0.0649081  0.861585     0.395302  0.79179   0.51461  \n",
       " 0.755307  0.0649081  0.0        0.832839     0.337819  0.838876  0.567363 \n",
       " 0.129905  0.861585   0.832839   0.0          0.591631  0.986796  0.928192 \n",
       " 0.79448   0.389001   0.444782   0.914696     0.684248  0.419097  0.130588 \n",
       " 1.12902   0.45689    0.518572   1.23795   …  0.851017  0.723674  0.466754 \n",
       " 0.74791   0.551813   0.599229   0.876053     0.777664  0.239993  0.0801106\n",
       " 0.558582  0.395302   0.337819   0.591631     0.0       0.996113  0.777951 \n",
       " 0.857336  0.79179    0.838876   0.986796     0.996113  0.0       0.289162 \n",
       " 0.80191   0.51461    0.567363   0.928192     0.777951  0.289162  0.0      "
      ]
     },
     "execution_count": 26,
     "metadata": {},
     "output_type": "execute_result"
    }
   ],
   "source": [
    "# 7. Consider a random vector with shape (100,2) representing coordinates, find point by point distances\n",
    "Z = rand(10,2)\n",
    "X,Y = Z[:,1], Z[:,2]\n",
    "D = sqrt((X.-X').^2 + (Y .- Y').^2)"
   ]
  },
  {
   "cell_type": "code",
   "execution_count": 27,
   "metadata": {
    "collapsed": false
   },
   "outputs": [],
   "source": [
    "# 8. Generate a generic 2D Gaussian-like array\n",
    "X, Y = meshgrid(linspace(-1,1,100),linspace(-1,1,100))\n",
    "D = sqrtm(X*X + Y*Y)\n",
    "sigma, mu = 1.0, 0.0\n",
    "G = exp(-( (D.-mu)^2 / ( 2.0 * sigma^2 ) ) )\n",
    "\n",
    "\n",
    "# Another solution\n",
    "# Author: Billou Beilour\n",
    "sigma, mu = 1.0, 0.0\n",
    "G = [ exp(-(x-mu).^2/(2.0*sigma^2) -(y-mu).^2/(2.0*sigma^2) ) for x in linspace(-1,1,100), y in linspace(-1,1,100) ]\n",
    "\n",
    "# One more solution\n",
    "# Author: Billou Beilour\n",
    "sigma, mu = 1.0, 0.0\n",
    "x,y = linspace(-1,1,100), linspace(-1,1,100)\n",
    "G = zeros(length(x),length(y))\n",
    "\n",
    "for i in 1:length(x), j in 1:length(y)\n",
    "    G[i,j] = exp(-(x[i]-mu).^2/(2.0*sigma^2) -(y[j]-mu).^2/(2.0*sigma^2) )\n",
    "end"
   ]
  },
  {
   "cell_type": "code",
   "execution_count": 28,
   "metadata": {
    "collapsed": false
   },
   "outputs": [
    {
     "data": {
      "text/plain": [
       "5-element Array{Int64,1}:\n",
       " 1\n",
       " 2\n",
       " 3\n",
       " 4\n",
       " 5"
      ]
     },
     "execution_count": 28,
     "metadata": {},
     "output_type": "execute_result"
    }
   ],
   "source": [
    "# 9. Consider the vector [1, 2, 3, 4, 5], how to build a new vector with 3 consecutive zeros interleaved between each value ?\n",
    "Z = [1,2,3,4,5]\n",
    "nz = 3\n",
    "Z0 = zeros(length(Z) + (length(Z)-1)*(nz))\n",
    "Z0[1:nz+1:end] = Z"
   ]
  },
  {
   "cell_type": "code",
   "execution_count": 29,
   "metadata": {
    "collapsed": false
   },
   "outputs": [
    {
     "data": {
      "text/plain": [
       "9"
      ]
     },
     "execution_count": 29,
     "metadata": {},
     "output_type": "execute_result"
    }
   ],
   "source": [
    "# 10. Find the nearest value from a given value in an array\n",
    "Z = [3,6,9,12,15]\n",
    "Z[indmin(abs(Z .- 10))]"
   ]
  },
  {
   "cell_type": "code",
   "execution_count": 30,
   "metadata": {
    "collapsed": false
   },
   "outputs": [
    {
     "ename": "LoadError",
     "evalue": "varzm! not defined\nwhile loading /Users/mic/.julia/v0.3/StatsBase/src/moments.jl, in expression starting on line 26\nwhile loading /Users/mic/.julia/v0.3/StatsBase/src/StatsBase.jl, in expression starting on line 141\nwhile loading /Users/mic/.julia/v0.3/DataFrames/src/DataFrames.jl, in expression starting on line 11\nwhile loading In[30], in expression starting on line 7",
     "output_type": "error",
     "traceback": [
      "varzm! not defined\nwhile loading /Users/mic/.julia/v0.3/StatsBase/src/moments.jl, in expression starting on line 26\nwhile loading /Users/mic/.julia/v0.3/StatsBase/src/StatsBase.jl, in expression starting on line 141\nwhile loading /Users/mic/.julia/v0.3/DataFrames/src/DataFrames.jl, in expression starting on line 11\nwhile loading In[30], in expression starting on line 7",
      " in include at boot.jl:244 (repeats 2 times)",
      " in reload_path at loading.jl:152",
      " in _require at loading.jl:67",
      " in require at loading.jl:54",
      " in include at boot.jl:244",
      " in reload_path at loading.jl:152",
      " in _require at loading.jl:67",
      " in require at loading.jl:51"
     ]
    }
   ],
   "source": [
    "# Journyman\n",
    "# 1. Consider the following file:\n",
    "# 1,2,3,4,5\n",
    "# 6,,,7,8\n",
    "# ,,9,10,11\n",
    "# How to read it ?\n",
    "using DataFrames\n",
    "readtable(\"missing.dat\")"
   ]
  },
  {
   "cell_type": "code",
   "execution_count": 31,
   "metadata": {
    "collapsed": false
   },
   "outputs": [],
   "source": [
    "# 2. Consider a generator function that generates 10 integers and use it to build an array\n",
    "# I can't translate this question"
   ]
  },
  {
   "cell_type": "code",
   "execution_count": 32,
   "metadata": {
    "collapsed": false
   },
   "outputs": [
    {
     "ename": "LoadError",
     "evalue": "counts not defined\nwhile loading In[32], in expression starting on line 5",
     "output_type": "error",
     "traceback": [
      "counts not defined\nwhile loading In[32], in expression starting on line 5"
     ]
    }
   ],
   "source": [
    "# 3. Consider a given vector, how to add 1 to each element indexed by a second vector (be careful with repeated indices) ?\n",
    "using StatsBase\n",
    "Z = ones(10)\n",
    "I = rand(0:length(Z), 20)\n",
    "Z += counts(I, 1:length(Z))"
   ]
  },
  {
   "cell_type": "code",
   "execution_count": 33,
   "metadata": {
    "collapsed": false
   },
   "outputs": [
    {
     "ename": "LoadError",
     "evalue": "counts not defined\nwhile loading In[33], in expression starting on line 5",
     "output_type": "error",
     "traceback": [
      "counts not defined\nwhile loading In[33], in expression starting on line 5"
     ]
    }
   ],
   "source": [
    "# 4. How to accumulate elements of a vector (X) to an array (F) based on an index list (I) ?\n",
    "using StatsBase\n",
    "X = WeightVec([1,2,3,4,5,6])\n",
    "I = [1,3,9,3,4,1]\n",
    "F = counts(I, maximum(I), X)"
   ]
  },
  {
   "cell_type": "code",
   "execution_count": 34,
   "metadata": {
    "collapsed": false
   },
   "outputs": [
    {
     "data": {
      "text/plain": [
       "3-element Array{Uint8,1}:\n",
       " 0x02\n",
       " 0x01\n",
       " 0x00"
      ]
     },
     "execution_count": 34,
     "metadata": {},
     "output_type": "execute_result"
    }
   ],
   "source": [
    "# 5. Considering a (w,h,3) image of (dtype=ubyte), compute the number of unique colors\n",
    "w,h = 16,16\n",
    "I = convert(Array{Uint8}, rand(0:2, (h,w,3)))\n",
    "F = I[:,:,1] * 256 * 256 + I[:,:,2]*256 + I[:,:,3]\n",
    "n = length(unique(F))\n",
    "unique(I)"
   ]
  },
  {
   "cell_type": "code",
   "execution_count": 35,
   "metadata": {
    "collapsed": false
   },
   "outputs": [
    {
     "data": {
      "text/plain": [
       "3x4x1 Array{Int64,3}:\n",
       "[:, :, 1] =\n",
       " 61  64  42  80\n",
       " 65  47  63  64\n",
       " 63  71  44  34"
      ]
     },
     "execution_count": 35,
     "metadata": {},
     "output_type": "execute_result"
    }
   ],
   "source": [
    "# 6. Considering a four dimensions array, how to get sum over the last two axis at once ?\n",
    "A = rand(0:10, (3,4,3,4))\n",
    "x,y = size(A)[1:end-2]\n",
    "z = prod(size(A)[end-1:end])\n",
    "calc_sum = sum(reshape(A, (x,y,z)),3)"
   ]
  },
  {
   "cell_type": "code",
   "execution_count": 36,
   "metadata": {
    "collapsed": false
   },
   "outputs": [
    {
     "ename": "LoadError",
     "evalue": "counts not defined\nwhile loading In[36], in expression starting on line 5",
     "output_type": "error",
     "traceback": [
      "counts not defined\nwhile loading In[36], in expression starting on line 5"
     ]
    }
   ],
   "source": [
    "# 7. Considering a one-dimensional vector D, how to compute means of subsets of D using a vector S of same size describing subset indices ?\n",
    "using StatsBase\n",
    "D = WeightVec(rand(100))\n",
    "S = rand(0:10,100)\n",
    "D_sums = counts(S, maximum(S), D)\n",
    "D_counts = counts(S, maximum(S))\n",
    "D_means = D_sums ./ D_counts"
   ]
  },
  {
   "cell_type": "code",
   "execution_count": 37,
   "metadata": {
    "collapsed": false
   },
   "outputs": [
    {
     "data": {
      "text/plain": [
       "99x3 Array{Float64,2}:\n",
       "  0.0   1.0    2.0\n",
       "  1.0   2.0    3.0\n",
       "  2.0   3.0    4.0\n",
       "  3.0   4.0    5.0\n",
       "  4.0   5.0    6.0\n",
       "  5.0   6.0    7.0\n",
       "  6.0   7.0    8.0\n",
       "  7.0   8.0    9.0\n",
       "  8.0   9.0   10.0\n",
       "  9.0  10.0   11.0\n",
       " 10.0  11.0   12.0\n",
       " 11.0  12.0   13.0\n",
       " 12.0  13.0   14.0\n",
       "  ⋮               \n",
       " 87.0  88.0   89.0\n",
       " 88.0  89.0   90.0\n",
       " 89.0  90.0   91.0\n",
       " 90.0  91.0   92.0\n",
       " 91.0  92.0   93.0\n",
       " 92.0  93.0   94.0\n",
       " 93.0  94.0   95.0\n",
       " 94.0  95.0   96.0\n",
       " 95.0  96.0   97.0\n",
       " 96.0  97.0   98.0\n",
       " 97.0  98.0   99.0\n",
       " 98.0  99.0  100.0"
      ]
     },
     "execution_count": 37,
     "metadata": {},
     "output_type": "execute_result"
    }
   ],
   "source": [
    "# Craftsman\n",
    "# 1. Consider a one-dimensional array Z, build a two-dimensional array whose first row is (Z[0],Z[1],Z[2]) and each subsequent row is shifted by 1 (last row should be (Z[-3],Z[-2],Z[-1])\n",
    "# I don't find any function like stride_tricks.as_stride\n",
    "function rolling(A, window)\n",
    "       Z = zeros(length(A)-2, window)\n",
    "       for i in 1:(length(A) - window +1)\n",
    "           Z[i,:] = A[i:i+2]\n",
    "       end\n",
    "       return Z\n",
    "end\n",
    "\n",
    "rolling(0:100, 3)"
   ]
  },
  {
   "cell_type": "code",
   "execution_count": 38,
   "metadata": {
    "collapsed": false
   },
   "outputs": [
    {
     "data": {
      "text/plain": [
       "287x2 Array{Int64,2}:\n",
       " 78  94\n",
       " 42  53\n",
       " 60  67\n",
       "  2  77\n",
       " 45  70\n",
       " 41  49\n",
       " 16  97\n",
       " 30  62\n",
       "  6  44\n",
       "  0  75\n",
       " 35  91\n",
       " 15  88\n",
       "  0  82\n",
       "  ⋮    \n",
       " 75  89\n",
       " 40  56\n",
       " 62  73\n",
       " 59  72\n",
       " 36  92\n",
       " 23  97\n",
       " 49  82\n",
       " 26  44\n",
       "  6  22\n",
       " 79  89\n",
       " 21  93\n",
       " 79  83"
      ]
     },
     "execution_count": 38,
     "metadata": {},
     "output_type": "execute_result"
    }
   ],
   "source": [
    "# 2. Consider a set of 100 triplets describing 100 triangles (with shared vertices), find the set of unique line segments composing all the triangles.\n",
    "\n",
    "faces = rand(0:100, 100, 3)\n",
    "face2 = kron(faces,[1 1])\n",
    "\n",
    "F = circshift(sortcols(face2),(0,1))\n",
    "F = reshape(F, (convert(Int64,length(F)/2),2))\n",
    "F = sort(F,2)\n",
    "G = unique(F,1)"
   ]
  },
  {
   "cell_type": "code",
   "execution_count": 39,
   "metadata": {
    "collapsed": false
   },
   "outputs": [
    {
     "ename": "LoadError",
     "evalue": "counts not defined\nwhile loading In[39], in expression starting on line 4",
     "output_type": "error",
     "traceback": [
      "counts not defined\nwhile loading In[39], in expression starting on line 4"
     ]
    }
   ],
   "source": [
    "# 3. Given an array C that is a bincount, how to produce an array A such that np.bincount(A) == C ?\n",
    "using StatsBase\n",
    "O = [1 1 2 3 4 4 6]\n",
    "C = counts(O, maximum(O))\n",
    "A = foldl(vcat,[kron(ones(Int64, C[i]), i) for i in 1:length(C)])"
   ]
  },
  {
   "cell_type": "code",
   "execution_count": 7,
   "metadata": {
    "collapsed": false
   },
   "outputs": [],
   "source": [
    "# 4. How to compute averages using a sliding window over an array ?\n"
   ]
  },
  {
   "cell_type": "code",
   "execution_count": 6,
   "metadata": {
    "collapsed": false
   },
   "outputs": [],
   "source": [
    "# Artisan\n",
    "# 1. Considering a 100x3 matrix, extract rows with unequal values (e.g. [2,2,3])\n"
   ]
  },
  {
   "cell_type": "code",
   "execution_count": 5,
   "metadata": {
    "collapsed": false
   },
   "outputs": [],
   "source": [
    "# 2. Convert a vector of ints into a matrix binary representation.\n"
   ]
  },
  {
   "cell_type": "code",
   "execution_count": 43,
   "metadata": {
    "collapsed": false
   },
   "outputs": [],
   "source": [
    "# Adept\n",
    "# 1. Consider an arbitrary array, write a function that extract a subpart with a fixed shape and centered on a given element (pad with a fill value when necessary)\n",
    "# TBS"
   ]
  },
  {
   "cell_type": "code",
   "execution_count": 44,
   "metadata": {
    "collapsed": false
   },
   "outputs": [],
   "source": [
    "# Expert\n",
    "# 1. Consider two arrays A and B of shape (8,3) and (2,2). How to find rows of A that contain elements of each row of B regardless of the order of the elements in B ?\n",
    "# I can't execute numpy version..."
   ]
  },
  {
   "cell_type": "code",
   "execution_count": 45,
   "metadata": {
    "collapsed": false
   },
   "outputs": [],
   "source": [
    "# 2. Extract all the contiguous 3x3 blocks from a random 10x10 matrix.\n",
    "# TBS"
   ]
  },
  {
   "cell_type": "code",
   "execution_count": 46,
   "metadata": {
    "collapsed": false
   },
   "outputs": [],
   "source": [
    "# 3. Extract all the contiguous 3x3 blocks from a random 10x10 matrix.\n",
    "# There is Symmetric class in julia but immutable\n",
    "# https://github.com/JuliaLang/julia/blob/master/base/linalg/symmetric.jl\n",
    "# See also: https://github.com/JuliaLang/julia/pull/1533"
   ]
  },
  {
   "cell_type": "code",
   "execution_count": 4,
   "metadata": {
    "collapsed": false
   },
   "outputs": [],
   "source": [
    "# 4. Consider a set of p matrices wich shape (n,n) and a set of p vectors with shape (n,1). How to compute the sum of of the p matrix products at once ? (result has shape (n,1))\n"
   ]
  },
  {
   "cell_type": "code",
   "execution_count": 3,
   "metadata": {
    "collapsed": false
   },
   "outputs": [],
   "source": [
    "# Master\n",
    "# 1. Given a two dimensional array, how to extract unique rows ?\n"
   ]
  },
  {
   "cell_type": "markdown",
   "metadata": {},
   "source": [
    "# Numpy Notes\n",
    "\n",
    "This is an instructional note. The original copy is [julia-100-exercises](https://github.com/chezou/julia-100-exercises) which is written in Python3. \n",
    "\n",
    "This repo used Python2.7 to repeat the same work. The correct answers is available [here](http://www.labri.fr/perso/nrougier/teaching/numpy.100/) "
   ]
  }
 ],
 "metadata": {
  "kernelspec": {
   "display_name": "Python 2",
   "language": "python",
   "name": "python2"
  },
  "language_info": {
   "codemirror_mode": {
    "name": "ipython",
    "version": 2
   },
   "file_extension": ".py",
   "mimetype": "text/x-python",
   "name": "python",
   "nbconvert_exporter": "python",
   "pygments_lexer": "ipython2",
   "version": "2.7.10"
  }
 },
 "nbformat": 4,
 "nbformat_minor": 0
}
